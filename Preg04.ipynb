{
 "cells": [
  {
   "cell_type": "code",
   "execution_count": 2,
   "metadata": {},
   "outputs": [],
   "source": [
    "def donativo(ganancia):\n",
    "    if ganancia > 5000:\n",
    "        return ganancia*0.15\n",
    "    else:\n",
    "        if ganancia > 2000:\n",
    "            return ganancia*0.10\n",
    "        else:\n",
    "            if ganancia > 1500:\n",
    "                return ganancia*0.08\n",
    "            else:\n",
    "                if ganancia > 1000:\n",
    "                    return ganancia*0.07\n",
    "                else:\n",
    "                    if ganancia >= 0:\n",
    "                        return ganancia*0.05\n",
    "                    else:\n",
    "                        return null\n",
    "\n"
   ]
  },
  {
   "cell_type": "code",
   "execution_count": 3,
   "metadata": {},
   "outputs": [
    {
     "name": "stdout",
     "output_type": "stream",
     "text": [
      "Datos de entrada:\n",
      "Ganancia: 100\n",
      "\n",
      "Datos de salida:\n",
      "Donacion: S/.5.0\n"
     ]
    }
   ],
   "source": [
    "n=int(input(\"Ingresar ganancias: \"))\n",
    "print(\"Datos de entrada:\\nGanancia: \"+str(n))\n",
    "print(\"\\nDatos de salida:\\nDonacion: S/.\"+str(donativo(n)))"
   ]
  }
 ],
 "metadata": {
  "kernelspec": {
   "display_name": "base",
   "language": "python",
   "name": "python3"
  },
  "language_info": {
   "codemirror_mode": {
    "name": "ipython",
    "version": 3
   },
   "file_extension": ".py",
   "mimetype": "text/x-python",
   "name": "python",
   "nbconvert_exporter": "python",
   "pygments_lexer": "ipython3",
   "version": "3.9.12"
  },
  "orig_nbformat": 4
 },
 "nbformat": 4,
 "nbformat_minor": 2
}
