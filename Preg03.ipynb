{
 "cells": [
  {
   "cell_type": "code",
   "execution_count": 2,
   "metadata": {},
   "outputs": [],
   "source": [
    "def importe(horas):\n",
    "    if horas <= 4:\n",
    "        return 6\n",
    "    else:\n",
    "        horas-=4\n",
    "        return 6+horas*2"
   ]
  },
  {
   "cell_type": "code",
   "execution_count": 3,
   "metadata": {},
   "outputs": [
    {
     "name": "stdout",
     "output_type": "stream",
     "text": [
      "Datos de entrada:\n",
      "Horas: 8\n",
      "\n",
      "Datos de salida:\n",
      "Importe a pagar: S/.14\n"
     ]
    }
   ],
   "source": [
    "n=int(input(\"Ingresar horas :\"))\n",
    "print(\"Datos de entrada:\\nHoras: \"+str(n))\n",
    "print(\"\\nDatos de salida:\\nImporte a pagar: S/.\"+str(importe(n)))"
   ]
  }
 ],
 "metadata": {
  "kernelspec": {
   "display_name": "base",
   "language": "python",
   "name": "python3"
  },
  "language_info": {
   "codemirror_mode": {
    "name": "ipython",
    "version": 3
   },
   "file_extension": ".py",
   "mimetype": "text/x-python",
   "name": "python",
   "nbconvert_exporter": "python",
   "pygments_lexer": "ipython3",
   "version": "3.9.12"
  },
  "orig_nbformat": 4
 },
 "nbformat": 4,
 "nbformat_minor": 2
}
